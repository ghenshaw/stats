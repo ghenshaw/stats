{
 "cells": [
  {
   "cell_type": "code",
   "execution_count": 1,
   "metadata": {
    "collapsed": false
   },
   "outputs": [],
   "source": [
    "from math import sqrt\n",
    "import scipy.stats"
   ]
  },
  {
   "cell_type": "code",
   "execution_count": 2,
   "metadata": {
    "collapsed": true
   },
   "outputs": [],
   "source": [
    "ns = 177.0\n",
    "nm = 352.0"
   ]
  },
  {
   "cell_type": "code",
   "execution_count": 3,
   "metadata": {
    "collapsed": false
   },
   "outputs": [],
   "source": [
    "def test(p1, p2):\n",
    "    passed = True\n",
    "    pooled = (p1 * ns + p2 * nm) / (ns + nm)\n",
    "    SE = sqrt( pooled * ( 1 - pooled ) * ( 1/ns + 1/nm ) )\n",
    "    z = (p1 - p2) / SE\n",
    "    p_value = scipy.stats.norm.sf(abs(z))\n",
    "    if ((p1*ns <5)or(p1*nm <5)):\n",
    "        passed = False\n",
    "    return p_value,passed"
   ]
  },
  {
   "cell_type": "code",
   "execution_count": 13,
   "metadata": {
    "collapsed": false
   },
   "outputs": [
    {
     "name": "stdout",
     "output_type": "stream",
     "text": [
      "0.109337 False\n"
     ]
    }
   ],
   "source": [
    "t = test(0.0,0.0085)\n",
    "num = '{:f}'.format(t[0])\n",
    "print(num, t[1])"
   ]
  },
  {
   "cell_type": "code",
   "execution_count": null,
   "metadata": {
    "collapsed": true
   },
   "outputs": [],
   "source": []
  }
 ],
 "metadata": {
  "kernelspec": {
   "display_name": "Python 3",
   "language": "python",
   "name": "python3"
  },
  "language_info": {
   "codemirror_mode": {
    "name": "ipython",
    "version": 3
   },
   "file_extension": ".py",
   "mimetype": "text/x-python",
   "name": "python",
   "nbconvert_exporter": "python",
   "pygments_lexer": "ipython3",
   "version": "3.5.2"
  }
 },
 "nbformat": 4,
 "nbformat_minor": 1
}
